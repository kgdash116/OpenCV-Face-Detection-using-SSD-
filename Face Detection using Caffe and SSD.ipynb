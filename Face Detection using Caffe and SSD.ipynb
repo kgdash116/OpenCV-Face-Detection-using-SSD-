{
 "cells": [
  {
   "cell_type": "code",
   "execution_count": 44,
   "id": "e27864d6",
   "metadata": {},
   "outputs": [],
   "source": [
    "import numpy\n",
    "import cv2"
   ]
  },
  {
   "cell_type": "code",
   "execution_count": 45,
   "id": "e8870bc5",
   "metadata": {},
   "outputs": [],
   "source": [
    "#Defining the model and loading the prototxt file and caffe file\n",
    "face_detection_model=cv2.dnn.readNetFromCaffe(\"./models/deploy.prototxt.txt\",\"./models/res10_300x300_ssd_iter_140000_fp16.caffemodel\")"
   ]
  },
  {
   "cell_type": "code",
   "execution_count": 46,
   "id": "e579530a",
   "metadata": {},
   "outputs": [],
   "source": [
    "#Reading and displaying the image\n",
    "image=cv2.imread(\"face2.jpg\")\n",
    "image=cv2.resize(image,(900,600))\n",
    "cv2.imshow(\"test_image\",image)\n",
    "cv2.waitKey(0)\n",
    "cv2.destroyAllWindows()"
   ]
  },
  {
   "cell_type": "code",
   "execution_count": 47,
   "id": "8323c07f",
   "metadata": {},
   "outputs": [],
   "source": [
    "\n",
    "def face_detection(img):\n",
    "    #get the blob info from the image\n",
    "    blob=cv2.dnn.blobFromImage(image,1,(300,300),(104,177,123),swapRB=True)\n",
    "    #set blob as input for the model\n",
    "    face_detection_model.setInput(blob)\n",
    "    #cast detections\n",
    "    detections=face_detection_model.forward()\n",
    "    h,w=image.shape[:2]\n",
    "    #loop for making bounding boxes and displaying them with their confidence scores\n",
    "    for i in range(0,detections.shape[2]):\n",
    "        confidence=detections[0,0,i,2]\n",
    "        if (confidence>0.5):\n",
    "            box=detections[0,0,i,3:7]*numpy.array([w,h,w,h])\n",
    "            box=box.astype(dtype=int)\n",
    "            point1=(box[0],box[1])\n",
    "            point2=(box[2],box[3])\n",
    "            cv2.rectangle(image,point1,point2,(0,255,0))\n",
    "            text=\"Confidence {:.0f}\".format(confidence*100)\n",
    "            cv2.putText(image,text,point1,cv2.FONT_HERSHEY_PLAIN,1,(255,255,255),1)\n",
    "    return img\n",
    "        \n"
   ]
  },
  {
   "cell_type": "code",
   "execution_count": 48,
   "id": "1433da85",
   "metadata": {},
   "outputs": [],
   "source": [
    "image_detect=face_detection(image)"
   ]
  },
  {
   "cell_type": "code",
   "execution_count": 49,
   "id": "7ae50cf4",
   "metadata": {},
   "outputs": [],
   "source": [
    "cv2.imshow(\"test_image\",image_detect)\n",
    "cv2.waitKey(0)\n",
    "cv2.destroyAllWindows()"
   ]
  },
  {
   "cell_type": "code",
   "execution_count": null,
   "id": "4cacbec6",
   "metadata": {},
   "outputs": [],
   "source": []
  }
 ],
 "metadata": {
  "kernelspec": {
   "display_name": "Python 3 (ipykernel)",
   "language": "python",
   "name": "python3"
  },
  "language_info": {
   "codemirror_mode": {
    "name": "ipython",
    "version": 3
   },
   "file_extension": ".py",
   "mimetype": "text/x-python",
   "name": "python",
   "nbconvert_exporter": "python",
   "pygments_lexer": "ipython3",
   "version": "3.9.12"
  }
 },
 "nbformat": 4,
 "nbformat_minor": 5
}
